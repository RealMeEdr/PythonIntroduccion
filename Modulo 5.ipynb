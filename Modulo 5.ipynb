{
 "cells": [
  {
   "cell_type": "code",
   "execution_count": 7,
   "metadata": {},
   "outputs": [
    {
     "name": "stdout",
     "output_type": "stream",
     "text": [
      "La suma es: 51\n",
      "La resta es: -3\n",
      "La multiplicación de 24 * 27 es: 648\n",
      "La división es: 12.5\n",
      "17\n",
      "17\n",
      "22\n",
      "23\n",
      "23\n",
      "14\n",
      "13\n",
      "12\n"
     ]
    }
   ],
   "source": [
    "#Suma\n",
    "suma = 24+27\n",
    "print(\"La suma es: \" +str(suma))\n",
    "\n",
    "#Resta\n",
    "resta = 24-27\n",
    "print(\"La resta es: \"+ str(resta))\n",
    "\n",
    "#Multipplicacion\n",
    "multi = 24*27\n",
    "print(\"La multiplicación de 24 * 27 es: \"+str(multi))\n",
    "\n",
    "#Division\n",
    "div = 50/4\n",
    "print(\"La división es: \"+str(div))\n",
    "\n",
    "#doble slide para redondear\n",
    "seconds = 1042\n",
    "display_minutes = 1042 // 60\n",
    "print(display_minutes)\n",
    "\n",
    "seconds = 1042\n",
    "display_minutes = 1042 // 60\n",
    "display_seconds = 1042 % 60\n",
    "\n",
    "print(display_minutes)\n",
    "print(display_seconds)\n",
    "\n",
    "#Valor absouluto\n",
    "print(abs(39 - 16))\n",
    "print(abs(16 - 39))\n",
    "\n",
    "#Redondeo\n",
    "print(round(14.5))\n",
    "\n",
    "#biblioteca Math\n",
    "from math import ceil, floor\n",
    "\n",
    "round_up = ceil(12.5)\n",
    "print(round_up)\n",
    "\n",
    "round_down = floor(12.5)\n",
    "print(round_down)"
   ]
  }
 ],
 "metadata": {
  "interpreter": {
   "hash": "be74b7eb3d87e3b224484d841f351a6fd369f4f269066f72d23cd073c36648fb"
  },
  "kernelspec": {
   "display_name": "Python 3.10.2 64-bit",
   "language": "python",
   "name": "python3"
  },
  "language_info": {
   "codemirror_mode": {
    "name": "ipython",
    "version": 3
   },
   "file_extension": ".py",
   "mimetype": "text/x-python",
   "name": "python",
   "nbconvert_exporter": "python",
   "pygments_lexer": "ipython3",
   "version": "3.10.2"
  },
  "orig_nbformat": 4
 },
 "nbformat": 4,
 "nbformat_minor": 2
}
