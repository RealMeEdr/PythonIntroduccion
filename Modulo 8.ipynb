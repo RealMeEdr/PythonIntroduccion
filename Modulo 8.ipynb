{
 "cells": [
  {
   "cell_type": "code",
   "execution_count": 7,
   "metadata": {},
   "outputs": [
    {
     "name": "stdout",
     "output_type": "stream",
     "text": [
      "el promedio de lunas por planeta del sistema solar es: 17.833333333333332\n"
     ]
    }
   ],
   "source": [
    "#Ejercicio 2 \n",
    "planet_moons = {\n",
    "    'mercury': 0,\n",
    "    'venus': 0,\n",
    "    'earth': 1,\n",
    "    'mars': 2,\n",
    "    'jupiter': 79,\n",
    "    'saturn': 82,\n",
    "    'uranus': 27,\n",
    "    'neptune': 14,\n",
    "    'pluto': 5,\n",
    "    'haumea': 2,\n",
    "    'makemake': 1,\n",
    "    'eris': 1\n",
    "}\n",
    "lunas = planet_moons.values()\n",
    "\n",
    "planetas = len(planet_moons.keys())\n",
    "total_lunas = 0\n",
    "\n",
    "for luna in lunas:\n",
    "    total_lunas = total_lunas+luna\n",
    "\n",
    "promedio = total_lunas/planetas\n",
    "\n",
    "print('el promedio de lunas por planeta del sistema solar es: '+ str(promedio))\n"
   ]
  },
  {
   "cell_type": "code",
   "execution_count": null,
   "metadata": {},
   "outputs": [],
   "source": [
    "#Diciconario en Python Ejercico 1\n",
    "\n",
    "planeta = {\n",
    "    'nombre':'Tierra',\n",
    "    'lunas': 1\n",
    "}\n",
    "print(f'La {planeta[\"nombre\"]} tiene {planeta[\"lunas\"]} lunas lunosas luminarias jaja')\n",
    "planeta['Circunferencia (km)'] = {\n",
    "    'polar': 40000,\n",
    "    'equatorial': 6792\n",
    "}\n",
    "\n",
    "print(f'La {planeta[\"nombre\"]} tiene una circunferencia de {planeta[\"Circunferencia (km)\"][\"polar\"]} km')"
   ]
  }
 ],
 "metadata": {
  "interpreter": {
   "hash": "be74b7eb3d87e3b224484d841f351a6fd369f4f269066f72d23cd073c36648fb"
  },
  "kernelspec": {
   "display_name": "Python 3.10.2 64-bit",
   "language": "python",
   "name": "python3"
  },
  "language_info": {
   "codemirror_mode": {
    "name": "ipython",
    "version": 3
   },
   "file_extension": ".py",
   "mimetype": "text/x-python",
   "name": "python",
   "nbconvert_exporter": "python",
   "pygments_lexer": "ipython3",
   "version": "3.10.2"
  },
  "orig_nbformat": 4
 },
 "nbformat": 4,
 "nbformat_minor": 2
}
