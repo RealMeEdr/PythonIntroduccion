{
 "cells": [
  {
   "cell_type": "markdown",
   "metadata": {},
   "source": [
    "#Ciclo While y for"
   ]
  },
  {
   "cell_type": "code",
   "execution_count": 3,
   "metadata": {},
   "outputs": [
    {
     "name": "stdout",
     "output_type": "stream",
     "text": [
      "Mercurio\n",
      "Venus\n"
     ]
    }
   ],
   "source": [
    "new_panet = \"\"\n",
    "planetas = []\n",
    "\n",
    "while new_panet.lower() != 'hecho':\n",
    "    if new_panet:\n",
    "        planetas.append(new_panet)\n",
    "    new_panet = input('Ingresa un nuevo planeta')\n",
    "\n",
    "\n",
    "for planeta in planetas:\n",
    "    print(planeta)"
   ]
  }
 ],
 "metadata": {
  "interpreter": {
   "hash": "be74b7eb3d87e3b224484d841f351a6fd369f4f269066f72d23cd073c36648fb"
  },
  "kernelspec": {
   "display_name": "Python 3.10.2 64-bit",
   "language": "python",
   "name": "python3"
  },
  "language_info": {
   "codemirror_mode": {
    "name": "ipython",
    "version": 3
   },
   "file_extension": ".py",
   "mimetype": "text/x-python",
   "name": "python",
   "nbconvert_exporter": "python",
   "pygments_lexer": "ipython3",
   "version": "3.10.2"
  },
  "orig_nbformat": 4
 },
 "nbformat": 4,
 "nbformat_minor": 2
}
